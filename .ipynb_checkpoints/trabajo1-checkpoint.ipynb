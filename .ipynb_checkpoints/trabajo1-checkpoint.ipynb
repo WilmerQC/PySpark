{
 "cells": [
  {
   "cell_type": "code",
   "execution_count": 1,
   "id": "70cfd06b-f5e5-40fd-b168-8c3893cd4420",
   "metadata": {},
   "outputs": [
    {
     "name": "stdout",
     "output_type": "stream",
     "text": [
      "max: the = 9\n"
     ]
    }
   ],
   "source": [
    "import re\n",
    "\n",
    "# remove any non-words and split lines into separate words\n",
    "# finally, convert all words to lowercase\n",
    "def splitter(line):\n",
    "    line = re.sub(r'^\\W+|\\W+$', '', line)\n",
    "    return map(str.lower, re.split(r'\\W+', line))\n",
    "    \n",
    "sums = {}\n",
    "try:\n",
    "    in_file = open('pg2701.txt', 'r')\n",
    "\n",
    "    for line in in_file:\n",
    "        for word in splitter(line):\n",
    "            word = word.lower()\n",
    "            sums[word] = sums.get(word, 0) + 1\n",
    "                 \n",
    "    in_file.close()\n",
    "\n",
    "except IOError:\n",
    "    print(\"error performing file operation\")\n",
    "else:\n",
    "    M = max(sums.keys(), key=lambda k: sums[k])\n",
    "    print(\"max: %s = %d\" % (M, sums[M]))"
   ]
  },
  {
   "cell_type": "code",
   "execution_count": null,
   "id": "68d2fcc2-33db-497a-984f-f43d8907c661",
   "metadata": {},
   "outputs": [],
   "source": []
  }
 ],
 "metadata": {
  "kernelspec": {
   "display_name": "Python 3 (ipykernel)",
   "language": "python",
   "name": "python3"
  },
  "language_info": {
   "codemirror_mode": {
    "name": "ipython",
    "version": 3
   },
   "file_extension": ".py",
   "mimetype": "text/x-python",
   "name": "python",
   "nbconvert_exporter": "python",
   "pygments_lexer": "ipython3",
   "version": "3.10.6"
  }
 },
 "nbformat": 4,
 "nbformat_minor": 5
}
